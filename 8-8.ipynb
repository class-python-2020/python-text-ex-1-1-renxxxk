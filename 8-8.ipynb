{
 "metadata": {
  "language_info": {
   "codemirror_mode": {
    "name": "ipython",
    "version": 3
   },
   "file_extension": ".py",
   "mimetype": "text/x-python",
   "name": "python",
   "nbconvert_exporter": "python",
   "pygments_lexer": "ipython3",
   "version": 3
  },
  "orig_nbformat": 2,
  "kernelspec": {
   "name": "python_defaultSpec_1597022240339",
   "display_name": "Python 3.8.2 32-bit"
  }
 },
 "nbformat": 4,
 "nbformat_minor": 2,
 "cells": [
  {
   "cell_type": "code",
   "execution_count": 11,
   "metadata": {},
   "outputs": [],
   "source": [
    "import sqlite3\n",
    "\n",
    "# samle.db という名前のデータベースファイル\n",
    "db = 'sample.db'\n",
    "\n",
    "#データベースに接続:Connectionオブジェクトを作成\n",
    "#データベースがすでに存在するときはそのまま接続\n",
    "#データベースがないときは新たらしく作成して接続\n",
    "con = sqlite3.connect(db)\n",
    "\n",
    "#カーソルオブジェクトを作成\n",
    "csr = con.cursor()\n",
    "\n",
    "#テーブルを作成\n",
    "sql = 'create table Employee(name, email, department, position);'\n",
    "csr.execute(sql)\n",
    "\n",
    "#保存\n",
    "con.commit()\n",
    "\n",
    "#接続を終了\n",
    "con.close()"
   ]
  },
  {
   "cell_type": "code",
   "execution_count": 12,
   "metadata": {
    "tags": []
   },
   "outputs": [
    {
     "output_type": "stream",
     "name": "stdout",
     "text": "[('Yamada', 'yamada@abcxyz.co.jp', 'Sales', 'staff'), ('Suzuki', 'suzuki@abcxyz.co.jp', 'Development', 'staff')]\n[('Yamada', 'yamada@abcxyz.co.jp', 'Sales', 'staff'), ('Suzuki', 'suzuki@abcxyz.co.jp', 'Development', 'Manager')]\n"
    }
   ],
   "source": [
    "import sqlite3\n",
    "\n",
    "#sample.db という名前のデータベースファイル\n",
    "db = 'sample.db'\n",
    "\n",
    "#データベースに接続\n",
    "con = sqlite3.connect(db)\n",
    "\n",
    "#カーソルオブジェクトを作成\n",
    "csr = con.cursor()\n",
    "\n",
    "#テーブルにデータを格納\n",
    "sql = \"insert into Employee(name, email, department, position) \\\n",
    "values('Yamada', 'yamada@abcxyz.co.jp','Sales','staff');\"\n",
    "csr.execute(sql)\n",
    "sql = \"insert into Employee(name, email, department, position) \\\n",
    "values('Suzuki', 'suzuki@abcxyz.co.jp','Development','staff');\"\n",
    "csr.execute(sql)\n",
    "\n",
    "#この時点の内容を確認\n",
    "sql = \"select * from Employee;\"\n",
    "csr.execute(sql)\n",
    "print(csr.fetchall())\n",
    "\n",
    "#テーブル中のデータを更新\n",
    "sql = \"update Employee set position = 'Manager' where name = 'Suzuki';\"\n",
    "csr.execute(sql)\n",
    "\n",
    "#保存\n",
    "con.commit()\n",
    "\n",
    "#内容を読み取って表示\n",
    "sql = \"select * from Employee;\"\n",
    "csr.execute(sql)\n",
    "print(csr.fetchall())\n",
    "\n",
    "#接続を終了\n",
    "con.close()"
   ]
  },
  {
   "cell_type": "code",
   "execution_count": null,
   "metadata": {},
   "outputs": [],
   "source": [
    "csr.execute('drop table data_set')\n",
    "con.commit()"
   ]
  },
  {
   "cell_type": "code",
   "execution_count": 14,
   "metadata": {
    "tags": []
   },
   "outputs": [
    {
     "output_type": "stream",
     "name": "stdout",
     "text": "[('Ichiro', 'Lazer'), ('Jiro', None), ('Saburo', None)]\n"
    },
    {
     "output_type": "execute_result",
     "data": {
      "text/plain": "<function Connection.close>"
     },
     "metadata": {},
     "execution_count": 14
    }
   ],
   "source": [
    "import sqlite3\n",
    "\n",
    "db = 'test.db'\n",
    "con = sqlite3.connect(db)\n",
    "csr = con.cursor()\n",
    "\n",
    "csr.execute('create table human(name, nickname);')\n",
    "\n",
    "csr.execute(\"insert into human(name) values('Ichiro');\")\n",
    "csr.execute(\"insert into human(name) values('Jiro');\")\n",
    "csr.execute(\"insert into human(name) values('Saburo');\")\n",
    "\n",
    "csr.execute(\"update human set nickname = 'Lazer' where name = 'Ichiro';\")\n",
    "\n",
    "csr.execute(\"select *from human;\")\n",
    "print(csr.fetchall())\n",
    "\n",
    "con.commit()\n",
    "con.close"
   ]
  },
  {
   "cell_type": "code",
   "execution_count": 15,
   "metadata": {},
   "outputs": [],
   "source": [
    "import sqlite3"
   ]
  },
  {
   "cell_type": "code",
   "execution_count": 16,
   "metadata": {},
   "outputs": [],
   "source": [
    "db = 'test.db'\n",
    "con = sqlite3.connect(db)\n",
    "csr = con.cursor()"
   ]
  },
  {
   "cell_type": "code",
   "execution_count": null,
   "metadata": {},
   "outputs": [],
   "source": [
    "csr.execute('create table human(name, nickname);')"
   ]
  },
  {
   "cell_type": "code",
   "execution_count": null,
   "metadata": {},
   "outputs": [],
   "source": [
    "csr.execute(\"insert into human(name) values('Ichiro');\")\n",
    "csr.execute(\"insert into human(name) values('Jiro');\")\n",
    "csr.execute(\"insert into human(name) values('Saburo');\")"
   ]
  },
  {
   "cell_type": "code",
   "execution_count": 18,
   "metadata": {},
   "outputs": [
    {
     "output_type": "execute_result",
     "data": {
      "text/plain": "<sqlite3.Cursor at 0xbb4360>"
     },
     "metadata": {},
     "execution_count": 18
    }
   ],
   "source": [
    "csr.execute(\"update human set nickname = 'Lanzer' where name = 'Ichiro';\")"
   ]
  },
  {
   "cell_type": "code",
   "execution_count": 19,
   "metadata": {
    "tags": []
   },
   "outputs": [
    {
     "output_type": "stream",
     "name": "stdout",
     "text": "[('Ichiro', 'Lanzer'), ('Jiro', None), ('Saburo', None)]\n"
    }
   ],
   "source": [
    "csr.execute(\"select * from human;\")\n",
    "print(csr.fetchall())\n",
    "\n",
    "con.commit()\n",
    "con.close()"
   ]
  },
  {
   "cell_type": "code",
   "execution_count": 20,
   "metadata": {
    "tags": []
   },
   "outputs": [
    {
     "output_type": "stream",
     "name": "stdout",
     "text": "[('Ichiro', 'Lanzer'), ('Saburo', None)]\n"
    }
   ],
   "source": [
    "import sqlite3\n",
    "\n",
    "db = 'test.db'\n",
    "con = sqlite3.connect(db)\n",
    "csr = con.cursor()\n",
    "\n",
    "csr.execute(\"update human set nickname = 'Lazer' where name = 'Jiro';\")\n",
    "\n",
    "csr.execute(\"delete from human where nickname = 'Lazer';\")\n",
    "\n",
    "csr.execute(\"select * from human;\")\n",
    "print(csr.fetchall())\n",
    "\n",
    "con.commit()\n",
    "con.close()"
   ]
  },
  {
   "cell_type": "code",
   "execution_count": null,
   "metadata": {},
   "outputs": [],
   "source": [
    "csr.execute(\"update human set nickname = 'Lazer' where name = 'Jiro';\")"
   ]
  },
  {
   "cell_type": "code",
   "execution_count": null,
   "metadata": {},
   "outputs": [],
   "source": [
    "csr.execute(\"delete from human where nickname = 'Lazer';\")"
   ]
  }
 ]
}